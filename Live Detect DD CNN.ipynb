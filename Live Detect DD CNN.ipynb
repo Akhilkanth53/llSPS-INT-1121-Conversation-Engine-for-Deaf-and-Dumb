{
 "cells": [
  {
   "cell_type": "code",
   "execution_count": 2,
   "metadata": {},
   "outputs": [
    {
     "name": "stdout",
     "output_type": "stream",
     "text": [
      "[5]\n",
      "[5]\n"
     ]
    },
    {
     "data": {
      "text/plain": [
       "'\\nd = \"old-data/test/0\"\\nnewd = \"data/test/0\"\\nfor walk in os.walk(d):\\n    for file in walk[2]:\\n        roi = cv2.imread(d+\"/\"+file)\\n        roi = cv2.cvtColor(roi, cv2.COLOR_BGR2GRAY)\\n        _, mask = cv2.threshold(roi, 120, 255, cv2.THRESH_BINARY)\\n        cv2.imwrite(newd+\"/\"+file, mask)     \\n'"
      ]
     },
     "execution_count": 2,
     "metadata": {},
     "output_type": "execute_result"
    }
   ],
   "source": [
    "import cv2\n",
    "import numpy as np\n",
    "import os\n",
    "from skimage.transform import resize\n",
    "from keras.models import load_model\n",
    "# Create the directory structure\n",
    "if not os.path.exists(\"data\"):\n",
    "    os.makedirs(\"data\")\n",
    "    os.makedirs(\"data/train\")\n",
    "    os.makedirs(\"data/test\")\n",
    "    os.makedirs(\"data/train/0\")\n",
    "    os.makedirs(\"data/train/1\")\n",
    "    os.makedirs(\"data/train/2\")\n",
    "    os.makedirs(\"data/train/3\")\n",
    "    os.makedirs(\"data/train/4\")\n",
    "    os.makedirs(\"data/train/5\")\n",
    "    os.makedirs(\"data/test/0\")\n",
    "    os.makedirs(\"data/test/1\")\n",
    "    os.makedirs(\"data/test/2\")\n",
    "    os.makedirs(\"data/test/3\")\n",
    "    os.makedirs(\"data/test/4\")\n",
    "    os.makedirs(\"data/test/5\")\n",
    "    \n",
    "\n",
    "# Train or test \n",
    "mode = 'get'\n",
    "directory = 'data/'\n",
    "\n",
    "cap = cv2.VideoCapture(0)\n",
    "\n",
    "while True:\n",
    "    _, frame = cap.read()\n",
    "    # Simulating mirror image\n",
    "    frame = cv2.flip(frame, 1)\n",
    "    \n",
    "    # Getting count of existing images\n",
    "    \n",
    "    # Printing the count in each set to the screen\n",
    "    \n",
    "    # Coordinates of the ROI\n",
    "    x1 = int(0.5*frame.shape[1])\n",
    "    y1 = 10\n",
    "    x2 = frame.shape[1]-10\n",
    "    y2 = int(0.5*frame.shape[1])\n",
    "    # Drawing the ROI\n",
    "    # The increment/decrement by 1 is to compensate for the bounding box\n",
    "    cv2.rectangle(frame, (x1-1, y1-1), (x2+1, y2+1), (255,0,0) ,1)\n",
    "    # Extracting the ROI\n",
    "    roi = frame[y1:y2, x1:x2]\n",
    "    roi = cv2.resize(roi, (64, 64)) \n",
    "    cv2.imshow(\"Frame\", frame)\n",
    "    roi = cv2.cvtColor(roi, cv2.COLOR_BGR2GRAY)\n",
    "    _, roi = cv2.threshold(roi, 120, 255, cv2.THRESH_BINARY)\n",
    "    cv2.imshow(\"ROI\", roi)\n",
    "    k=os.listdir(directory+\"/get\")\n",
    "    interrupt = cv2.waitKey(10)\n",
    "    if interrupt & 0xFF == 27: # esc key\n",
    "        break\n",
    "    if interrupt & 0xFF == ord('0'):\n",
    "        x=len(k)\n",
    "        cv2.imwrite(directory+'get/'+str(x)+'.jpg', roi)\n",
    "        roi=cv2.imread(directory+'get/'+str(x)+'.jpg')\n",
    "        def detect(frame):\n",
    "            try:\n",
    "                img = resize(frame,(64,64,1))\n",
    "                img = np.expand_dims(img,axis=0)\n",
    "                if(np.max(img)>1):\n",
    "                    img = img/255.0\n",
    "                classifier = load_model('myclassifier.h5')\n",
    "                prediction = classifier.predict(img)\n",
    "                prediction = classifier.predict_classes(img)\n",
    "                return prediction\n",
    "            except AttributeError:\n",
    "                print(\"shape not found\")\n",
    "        data=detect(roi)\n",
    "        print(data)\n",
    "        cv2.putText(frame, \"PREDICTION: \"+str(int(data)), (10, 50), cv2.FONT_HERSHEY_PLAIN, 1, (0,255,255), 1)\n",
    "cap.release()\n",
    "cv2.destroyAllWindows()\n",
    "\"\"\"\n",
    "d = \"old-data/test/0\"\n",
    "newd = \"data/test/0\"\n",
    "for walk in os.walk(d):\n",
    "    for file in walk[2]:\n",
    "        roi = cv2.imread(d+\"/\"+file)\n",
    "        roi = cv2.cvtColor(roi, cv2.COLOR_BGR2GRAY)\n",
    "        _, mask = cv2.threshold(roi, 120, 255, cv2.THRESH_BINARY)\n",
    "        cv2.imwrite(newd+\"/\"+file, mask)     \n",
    "\"\"\"\n"
   ]
  },
  {
   "cell_type": "code",
   "execution_count": 4,
   "metadata": {},
   "outputs": [
    {
     "name": "stdout",
     "output_type": "stream",
     "text": [
      "2\n"
     ]
    }
   ],
   "source": [
    "k=os.listdir(directory+\"/get\")\n",
    "print(len(k))"
   ]
  },
  {
   "cell_type": "code",
   "execution_count": null,
   "metadata": {},
   "outputs": [],
   "source": []
  }
 ],
 "metadata": {
  "kernelspec": {
   "display_name": "Python 3",
   "language": "python",
   "name": "python3"
  },
  "language_info": {
   "codemirror_mode": {
    "name": "ipython",
    "version": 3
   },
   "file_extension": ".py",
   "mimetype": "text/x-python",
   "name": "python",
   "nbconvert_exporter": "python",
   "pygments_lexer": "ipython3",
   "version": "3.7.4"
  }
 },
 "nbformat": 4,
 "nbformat_minor": 2
}
