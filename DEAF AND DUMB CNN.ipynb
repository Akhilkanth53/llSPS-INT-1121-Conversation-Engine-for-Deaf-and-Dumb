{
 "cells": [
  {
   "cell_type": "code",
   "execution_count": 95,
   "metadata": {},
   "outputs": [
    {
     "name": "stdout",
     "output_type": "stream",
     "text": [
      "Found 600 images belonging to 6 classes.\n",
      "Found 30 images belonging to 6 classes.\n",
      "Epoch 1/10\n",
      "600/600 [==============================] - 27s 45ms/step - loss: 0.6654 - accuracy: 0.7367 - val_loss: 0.3556 - val_accuracy: 0.9000\n",
      "Epoch 2/10\n",
      "600/600 [==============================] - 26s 44ms/step - loss: 0.1772 - accuracy: 0.9410 - val_loss: 0.0615 - val_accuracy: 0.9333\n",
      "Epoch 3/10\n",
      "600/600 [==============================] - 26s 43ms/step - loss: 0.0691 - accuracy: 0.9753 - val_loss: 0.0060 - val_accuracy: 0.9000\n",
      "Epoch 4/10\n",
      "600/600 [==============================] - 26s 44ms/step - loss: 0.0467 - accuracy: 0.9800 - val_loss: 0.0544 - val_accuracy: 0.9667\n",
      "Epoch 5/10\n",
      "600/600 [==============================] - 25s 41ms/step - loss: 0.0418 - accuracy: 0.9880 - val_loss: 7.0036e-05 - val_accuracy: 0.9667\n",
      "Epoch 6/10\n",
      "600/600 [==============================] - 26s 43ms/step - loss: 0.0220 - accuracy: 0.9930 - val_loss: 5.6830e-04 - val_accuracy: 0.9333\n",
      "Epoch 7/10\n",
      "600/600 [==============================] - 25s 42ms/step - loss: 0.0288 - accuracy: 0.9900 - val_loss: 2.3030e-04 - val_accuracy: 0.9667\n",
      "Epoch 8/10\n",
      "600/600 [==============================] - 25s 41ms/step - loss: 0.0316 - accuracy: 0.9893 - val_loss: 0.0011 - val_accuracy: 0.9667\n",
      "Epoch 9/10\n",
      "600/600 [==============================] - 26s 43ms/step - loss: 0.0071 - accuracy: 0.9977 - val_loss: 0.0508 - val_accuracy: 0.9333\n",
      "Epoch 10/10\n",
      "600/600 [==============================] - 26s 43ms/step - loss: 0.0192 - accuracy: 0.9943 - val_loss: 2.3494e-04 - val_accuracy: 0.9667\n"
     ]
    }
   ],
   "source": [
    "from keras.models import Sequential\n",
    "from keras.layers import Convolution2D\n",
    "from keras.layers import MaxPooling2D\n",
    "from keras.layers import Flatten\n",
    "from keras.layers import Dense\n",
    "\n",
    "# Step 1 - Building the CNN\n",
    "\n",
    "# Initializing the CNN\n",
    "classifier = Sequential()\n",
    "\n",
    "# First convolution layer and pooling\n",
    "classifier.add(Convolution2D(32, (3, 3), input_shape=(64, 64, 1), activation='relu'))\n",
    "classifier.add(MaxPooling2D(pool_size=(2, 2)))\n",
    "# Second convolution layer and pooling\n",
    "classifier.add(Convolution2D(32, (3, 3), activation='relu'))\n",
    "# input_shape is going to be the pooled feature maps from the previous convolution layer\n",
    "classifier.add(MaxPooling2D(pool_size=(2, 2)))\n",
    "\n",
    "# Flattening the layers\n",
    "classifier.add(Flatten())\n",
    "\n",
    "# Adding a fully connected layer\n",
    "classifier.add(Dense(units=128, activation='relu'))\n",
    "classifier.add(Dense(units=6, activation='softmax')) # softmax for more than 2\n",
    "\n",
    "# Compiling the CNN\n",
    "classifier.compile(optimizer='adam', loss='categorical_crossentropy', metrics=['accuracy']) # categorical_crossentropy for more than 2\n",
    "\n",
    "\n",
    "# Step 2 - Preparing the train/test data and training the model\n",
    "\n",
    "# Code copied from - https://keras.io/preprocessing/image/\n",
    "from keras.preprocessing.image import ImageDataGenerator\n",
    "\n",
    "train_datagen = ImageDataGenerator(\n",
    "        rescale=1./255,\n",
    "        shear_range=0.2,\n",
    "        zoom_range=0.2,\n",
    "        horizontal_flip=True)\n",
    "\n",
    "test_datagen = ImageDataGenerator(rescale=1./255)\n",
    "\n",
    "training_set = train_datagen.flow_from_directory('data/train',\n",
    "                                                 target_size=(64, 64),\n",
    "                                                 batch_size=5,\n",
    "                                                 color_mode='grayscale',\n",
    "                                                 class_mode='categorical')\n",
    "\n",
    "test_set = test_datagen.flow_from_directory('data/test',\n",
    "                                            target_size=(64, 64),\n",
    "                                            batch_size=5,\n",
    "                                            color_mode='grayscale',\n",
    "                                            class_mode='categorical') \n",
    "classifier.fit_generator(\n",
    "        training_set,\n",
    "        steps_per_epoch=600, # No of images in training set\n",
    "        epochs=10,\n",
    "        validation_data=test_set,\n",
    "        validation_steps=30)# No of images in test set\n",
    "\n",
    "\n",
    "# Saving the model\n",
    "model_json = classifier.to_json()\n",
    "with open(\"model-bw.json\", \"w\") as json_file:\n",
    "    json_file.write(model_json)\n",
    "classifier.save_weights('model-bw.h5')"
   ]
  },
  {
   "cell_type": "code",
   "execution_count": 113,
   "metadata": {},
   "outputs": [
    {
     "name": "stdout",
     "output_type": "stream",
     "text": [
      "Loaded model from disk\n"
     ]
    }
   ],
   "source": [
    "import numpy as np\n",
    "from keras.models import model_from_json\n",
    "import operator\n",
    "import cv2\n",
    "import sys, os\n",
    "from skimage.transform import resize\n",
    "\n",
    "# Loading the model\n",
    "json_file = open(\"model-bw.json\", \"r\")\n",
    "model_json = json_file.read()\n",
    "json_file.close()\n",
    "loaded_model = model_from_json(model_json)\n",
    "# load weights into new model\n",
    "loaded_model.load_weights(\"model-bw.h5\")\n",
    "print(\"Loaded model from disk\")\n",
    "roi=cv2.imread(\"two2.jpeg\")\n",
    "def detect(frame):\n",
    "    try:\n",
    "        img = resize(frame,(64,64,1))\n",
    "        img = np.expand_dims(img,axis=0)\n",
    "        if(np.max(img)>1):\n",
    "            img = img/255.0\n",
    "        prediction = classifier.predict(img)\n",
    "        prediction = classifier.predict_classes(img)\n",
    "        return prediction\n",
    "    except AttributeError:\n",
    "        print(\"shape not found\")\n",
    "data=detect(roi)"
   ]
  },
  {
   "cell_type": "code",
   "execution_count": 114,
   "metadata": {},
   "outputs": [
    {
     "data": {
      "text/plain": [
       "array([2], dtype=int64)"
      ]
     },
     "execution_count": 114,
     "metadata": {},
     "output_type": "execute_result"
    }
   ],
   "source": [
    "data"
   ]
  },
  {
   "cell_type": "code",
   "execution_count": null,
   "metadata": {},
   "outputs": [],
   "source": []
  }
 ],
 "metadata": {
  "kernelspec": {
   "display_name": "Python 3",
   "language": "python",
   "name": "python3"
  },
  "language_info": {
   "codemirror_mode": {
    "name": "ipython",
    "version": 3
   },
   "file_extension": ".py",
   "mimetype": "text/x-python",
   "name": "python",
   "nbconvert_exporter": "python",
   "pygments_lexer": "ipython3",
   "version": "3.7.4"
  }
 },
 "nbformat": 4,
 "nbformat_minor": 2
}
